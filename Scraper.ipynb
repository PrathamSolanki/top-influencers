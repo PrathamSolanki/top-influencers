{
 "cells": [
  {
   "cell_type": "markdown",
   "metadata": {},
   "source": [
    "### Import necessary libraries"
   ]
  },
  {
   "cell_type": "code",
   "execution_count": 1,
   "metadata": {},
   "outputs": [],
   "source": [
    "import json\n",
    "import tweepy"
   ]
  },
  {
   "cell_type": "markdown",
   "metadata": {},
   "source": [
    "### Load Twitter API credentials"
   ]
  },
  {
   "cell_type": "code",
   "execution_count": 2,
   "metadata": {},
   "outputs": [],
   "source": [
    "with open('twitter_credentials.json') as cred_data:\n",
    "    info = json.load(cred_data)\n",
    "    consumer_key = info['CONSUMER_KEY']\n",
    "    consumer_secret = info['CONSUMER_SECRET']\n",
    "    access_key = info['ACCESS_KEY']\n",
    "    access_secret = info['ACCESS_SECRET']"
   ]
  },
  {
   "cell_type": "markdown",
   "metadata": {},
   "source": [
    "### Authorization and initialization"
   ]
  },
  {
   "cell_type": "code",
   "execution_count": 3,
   "metadata": {},
   "outputs": [],
   "source": [
    "auth = tweepy.OAuthHandler(consumer_key, consumer_secret)\n",
    "auth.set_access_token(access_key, access_secret)\n",
    "api = tweepy.API(auth, wait_on_rate_limit=True, wait_on_rate_limit_notify=True)"
   ]
  },
  {
   "cell_type": "markdown",
   "metadata": {},
   "source": [
    "### Quering tweets"
   ]
  },
  {
   "cell_type": "code",
   "execution_count": 9,
   "metadata": {},
   "outputs": [],
   "source": [
    "query = 'deep learning'\n",
    "max_tweets = 10\n",
    "searched_tweets = [status for status in tweepy.Cursor(api.search, q=query).items(max_tweets)]"
   ]
  },
  {
   "cell_type": "markdown",
   "metadata": {},
   "source": [
    "### Generating {user_id: (follower_ids, num_followers, num_favorites, num_retweets)} for the poster of each searched tweet"
   ]
  },
  {
   "cell_type": "code",
   "execution_count": 10,
   "metadata": {},
   "outputs": [
    {
     "name": "stderr",
     "output_type": "stream",
     "text": [
      "Rate limit reached. Sleeping for: 261\n"
     ]
    }
   ],
   "source": [
    "candidates = {}\n",
    "\n",
    "for tweet in searched_tweets:\n",
    "    user = tweet.user\n",
    "    user_id = user.id_str\n",
    "    user_name = api.get_user(user_id).screen_name\n",
    "    user_followers_number = user.followers_count\n",
    "    user_followers = []\n",
    "    for page in tweepy.Cursor(api.followers_ids, screen_name=user_name).pages():\n",
    "        user_followers.append(page)\n",
    "    user_tweets = api.user_timeline(screen_name=user_name, count=1000, include_rts=False)\n",
    "    favorite_count = 0\n",
    "    retweet_count = 0\n",
    "    for tweet in user_tweets:\n",
    "        tweet_text = tweet.text.lower()\n",
    "        if (query.lower() not in tweet_text):\n",
    "            continue\n",
    "        favorite_count += tweet.favorite_count\n",
    "        retweet_count += tweet.retweet_count\n",
    "        \n",
    "    candidates[user_id] = (user_followers[0], user_followers_number, favorite_count, retweet_count)"
   ]
  },
  {
   "cell_type": "code",
   "execution_count": 22,
   "metadata": {},
   "outputs": [
    {
     "name": "stdout",
     "output_type": "stream",
     "text": [
      "anbarth 311 1 0\n",
      "0x94 1658 3 0\n",
      "silicontalent 6635 0 0\n",
      "akdm_bot 1309 0 0\n",
      "HN27746313 4068 0 0\n",
      "HackerNewsPosts 165 0 0\n",
      "newsyc20 15881 0 0\n",
      "pearsekeane 2146 387 147\n",
      "uretericbud 6503 0 0\n",
      "CGrassberger 201 0 0\n"
     ]
    }
   ],
   "source": [
    "for candidate in candidates:\n",
    "    print(api.get_user(candidate).screen_name, candidates[candidate][1], candidates[candidate][2], candidates[candidate][3])"
   ]
  }
 ],
 "metadata": {
  "kernelspec": {
   "display_name": "Python 3",
   "language": "python",
   "name": "python3"
  },
  "language_info": {
   "codemirror_mode": {
    "name": "ipython",
    "version": 3
   },
   "file_extension": ".py",
   "mimetype": "text/x-python",
   "name": "python",
   "nbconvert_exporter": "python",
   "pygments_lexer": "ipython3",
   "version": "3.6.9"
  }
 },
 "nbformat": 4,
 "nbformat_minor": 2
}
