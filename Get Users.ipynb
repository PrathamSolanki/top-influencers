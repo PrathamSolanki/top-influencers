{
 "cells": [
  {
   "cell_type": "code",
   "execution_count": null,
   "metadata": {},
   "outputs": [],
   "source": [
    "import sys\n",
    "import requests\n",
    "import bs4\n",
    "import json\n",
    "from bs4 import BeautifulSoup\n",
    "import base64\n",
    "import oauth2"
   ]
  },
  {
   "cell_type": "code",
   "execution_count": null,
   "metadata": {},
   "outputs": [],
   "source": [
    "with open('twitter_credentials.json') as cred_data:\n",
    "    info = json.load(cred_data)\n",
    "    consumer_key = info['CONSUMER_KEY']\n",
    "    consumer_secret = info['CONSUMER_SECRET']\n",
    "    access_key = info['ACCESS_KEY']\n",
    "    access_secret = info['ACCESS_SECRET']\n",
    "    token_credential = consumer_key + ':' + consumer_secret\n",
    "    encoded_token_credential = str(base64.b64encode(token_credential.encode())).replace(\"b'\",\"\").replace(\"'\",\"\")\n",
    "\n",
    "response = requests.post('https://api.twitter.com/oauth2/token', \n",
    "                         headers={'Authorization':'Basic '+encoded_token_credential, \n",
    "                                  'Content-Type': 'application/x-www-form-urlencoded;charset=UTF-8'}, \n",
    "                         data={'grant_type':'client_credentials'})\n",
    "\n",
    "token = response.json()['access_token']"
   ]
  },
  {
   "cell_type": "code",
   "execution_count": null,
   "metadata": {},
   "outputs": [],
   "source": [
    "with open('twitter_credentials_edo.json') as cred_data:\n",
    "    info = json.load(cred_data)\n",
    "    consumer_key = info['CONSUMER_KEY']\n",
    "    consumer_secret = info['CONSUMER_SECRET']\n",
    "    access_key = info['ACCESS_KEY']\n",
    "    access_secret = info['ACCESS_SECRET']\n",
    "    token_credential = consumer_key + ':' + consumer_secret\n",
    "    encoded_token_credential = str(base64.b64encode(token_credential.encode())).replace(\"b'\",\"\").replace(\"'\",\"\")\n",
    "    \n",
    "response = requests.post('https://api.twitter.com/oauth2/token', \n",
    "                         headers={'Authorization':'Basic '+encoded_token_credential, \n",
    "                                  'Content-Type': 'application/x-www-form-urlencoded;charset=UTF-8'}, \n",
    "                         data={'grant_type':'client_credentials'})\n",
    "\n",
    "token = response.json()['access_token']"
   ]
  },
  {
   "cell_type": "code",
   "execution_count": null,
   "metadata": {},
   "outputs": [],
   "source": [
    "url_rest = \"https://api.twitter.com/1.1/search/tweets.json\"\n",
    "\n",
    "q = '* -filter:retweets'\n",
    "\n",
    "last_id = sys.maxsize\n",
    "initial_run = True"
   ]
  },
  {
   "cell_type": "code",
   "execution_count": null,
   "metadata": {},
   "outputs": [],
   "source": [
    "while True:\n",
    "    if initial_run:\n",
    "        intial_run = False\n",
    "        params = {'q': q, 'count': 100, 'lang': 'en', 'geocode': '34.036654,-118.193582,150km', 'result_type': 'recent'}\n",
    "    else:\n",
    "        params = {'q': q, 'count': 100, 'lang': 'en', 'geocode': '34.036654,-118.193582,150km', 'result_type': 'recent', 'max_id': last_id}\n",
    "    results = requests.get(url_rest, params=params, headers={'Authorization': 'Bearer ' + token})\n",
    "    tweets = results.json()\n",
    "    tweet_ids = [tweet['id'] for tweet in tweets['statuses']]\n",
    "    for tweet_id in tweet_ids:\n",
    "        if tweet_id < last_id: last_id = tweet_id\n",
    "    user_ids = [tweet['user']['id_str']+'\\n' for tweet in tweets['statuses']]\n",
    "    with open('data/users.txt', 'a') as myfile:\n",
    "        myfile.writelines(user_ids)"
   ]
  }
 ],
 "metadata": {
  "kernelspec": {
   "display_name": "Python 3",
   "language": "python",
   "name": "python3"
  },
  "language_info": {
   "codemirror_mode": {
    "name": "ipython",
    "version": 3
   },
   "file_extension": ".py",
   "mimetype": "text/x-python",
   "name": "python",
   "nbconvert_exporter": "python",
   "pygments_lexer": "ipython3",
   "version": "3.6.9"
  }
 },
 "nbformat": 4,
 "nbformat_minor": 2
}
