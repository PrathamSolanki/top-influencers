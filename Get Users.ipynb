{
 "cells": [
  {
   "cell_type": "code",
   "execution_count": 131,
   "metadata": {},
   "outputs": [],
   "source": [
    "import sys\n",
    "import requests\n",
    "import bs4\n",
    "from bs4 import BeautifulSoup\n",
    "from requests_oauthlib import OAuth1\n",
    "import base64\n",
    "import oauth2"
   ]
  },
  {
   "cell_type": "code",
   "execution_count": 171,
   "metadata": {},
   "outputs": [],
   "source": [
    "with open('twitter_credentials.json') as cred_data:\n",
    "    info = json.load(cred_data)\n",
    "    consumer_key = info['CONSUMER_KEY']\n",
    "    consumer_secret = info['CONSUMER_SECRET']\n",
    "    access_key = info['ACCESS_KEY']\n",
    "    access_secret = info['ACCESS_SECRET']\n",
    "    token_credential = consumer_key + ':' + consumer_secret\n",
    "    encoded_token_credential = str(base64.b64encode(token_credential.encode())).replace(\"b'\",\"\").replace(\"'\",\"\")\n",
    "\n",
    "response = requests.post('https://api.twitter.com/oauth2/token', \n",
    "                         headers={'Authorization':'Basic '+encoded_token_credential, \n",
    "                                  'Content-Type': 'application/x-www-form-urlencoded;charset=UTF-8'}, \n",
    "                         data={'grant_type':'client_credentials'})\n",
    "\n",
    "token = response.json()['access_token']"
   ]
  },
  {
   "cell_type": "code",
   "execution_count": 173,
   "metadata": {},
   "outputs": [],
   "source": [
    "with open('twitter_credentials_edo.json') as cred_data:\n",
    "    info = json.load(cred_data)\n",
    "    consumer_key = info['CONSUMER_KEY']\n",
    "    consumer_secret = info['CONSUMER_SECRET']\n",
    "    access_key = info['ACCESS_KEY']\n",
    "    access_secret = info['ACCESS_SECRET']\n",
    "    token_credential = consumer_key + ':' + consumer_secret\n",
    "    encoded_token_credential = str(base64.b64encode(token_credential.encode())).replace(\"b'\",\"\").replace(\"'\",\"\")\n",
    "    \n",
    "response = requests.post('https://api.twitter.com/oauth2/token', \n",
    "                         headers={'Authorization':'Basic '+encoded_token_credential, \n",
    "                                  'Content-Type': 'application/x-www-form-urlencoded;charset=UTF-8'}, \n",
    "                         data={'grant_type':'client_credentials'})\n",
    "\n",
    "token = response.json()['access_token']"
   ]
  },
  {
   "cell_type": "code",
   "execution_count": 122,
   "metadata": {},
   "outputs": [],
   "source": [
    "url_rest = \"https://api.twitter.com/1.1/search/tweets.json\"\n",
    "\n",
    "q = '* -filter:retweets'\n",
    "\n",
    "last_id = sys.maxsize\n",
    "initial_run = True"
   ]
  },
  {
   "cell_type": "code",
   "execution_count": 174,
   "metadata": {},
   "outputs": [
    {
     "ename": "KeyError",
     "evalue": "'statuses'",
     "output_type": "error",
     "traceback": [
      "\u001b[1;31m---------------------------------------------------------------------------\u001b[0m",
      "\u001b[1;31mKeyError\u001b[0m                                  Traceback (most recent call last)",
      "\u001b[1;32m<ipython-input-174-66a10f0b5da0>\u001b[0m in \u001b[0;36m<module>\u001b[1;34m\u001b[0m\n\u001b[0;32m      7\u001b[0m     \u001b[0mresults\u001b[0m \u001b[1;33m=\u001b[0m \u001b[0mrequests\u001b[0m\u001b[1;33m.\u001b[0m\u001b[0mget\u001b[0m\u001b[1;33m(\u001b[0m\u001b[0murl_rest\u001b[0m\u001b[1;33m,\u001b[0m \u001b[0mparams\u001b[0m\u001b[1;33m=\u001b[0m\u001b[0mparams\u001b[0m\u001b[1;33m,\u001b[0m \u001b[0mheaders\u001b[0m\u001b[1;33m=\u001b[0m\u001b[1;33m{\u001b[0m\u001b[1;34m'Authorization'\u001b[0m\u001b[1;33m:\u001b[0m \u001b[1;34m'Bearer '\u001b[0m \u001b[1;33m+\u001b[0m \u001b[0mtoken\u001b[0m\u001b[1;33m}\u001b[0m\u001b[1;33m)\u001b[0m\u001b[1;33m\u001b[0m\u001b[1;33m\u001b[0m\u001b[0m\n\u001b[0;32m      8\u001b[0m     \u001b[0mtweets\u001b[0m \u001b[1;33m=\u001b[0m \u001b[0mresults\u001b[0m\u001b[1;33m.\u001b[0m\u001b[0mjson\u001b[0m\u001b[1;33m(\u001b[0m\u001b[1;33m)\u001b[0m\u001b[1;33m\u001b[0m\u001b[1;33m\u001b[0m\u001b[0m\n\u001b[1;32m----> 9\u001b[1;33m     \u001b[0mtweet_ids\u001b[0m \u001b[1;33m=\u001b[0m \u001b[1;33m[\u001b[0m\u001b[0mtweet\u001b[0m\u001b[1;33m[\u001b[0m\u001b[1;34m'id'\u001b[0m\u001b[1;33m]\u001b[0m \u001b[1;32mfor\u001b[0m \u001b[0mtweet\u001b[0m \u001b[1;32min\u001b[0m \u001b[0mtweets\u001b[0m\u001b[1;33m[\u001b[0m\u001b[1;34m'statuses'\u001b[0m\u001b[1;33m]\u001b[0m\u001b[1;33m]\u001b[0m\u001b[1;33m\u001b[0m\u001b[1;33m\u001b[0m\u001b[0m\n\u001b[0m\u001b[0;32m     10\u001b[0m     \u001b[1;32mfor\u001b[0m \u001b[0mtweet_id\u001b[0m \u001b[1;32min\u001b[0m \u001b[0mtweet_ids\u001b[0m\u001b[1;33m:\u001b[0m\u001b[1;33m\u001b[0m\u001b[1;33m\u001b[0m\u001b[0m\n\u001b[0;32m     11\u001b[0m         \u001b[1;32mif\u001b[0m \u001b[0mtweet_id\u001b[0m \u001b[1;33m<\u001b[0m \u001b[0mlast_id\u001b[0m\u001b[1;33m:\u001b[0m \u001b[0mlast_id\u001b[0m \u001b[1;33m=\u001b[0m \u001b[0mtweet_id\u001b[0m\u001b[1;33m\u001b[0m\u001b[1;33m\u001b[0m\u001b[0m\n",
      "\u001b[1;31mKeyError\u001b[0m: 'statuses'"
     ]
    }
   ],
   "source": [
    "while True:\n",
    "    if initial_run:\n",
    "        intial_run = False\n",
    "        params = {'q': q, 'count': 100, 'lang': 'en', 'geocode': '34.036654,-118.193582,150km', 'result_type': 'recent'}\n",
    "    else:\n",
    "        params = {'q': q, 'count': 100, 'lang': 'en', 'geocode': '34.036654,-118.193582,150km', 'result_type': 'recent', 'max_id': last_id}\n",
    "    results = requests.get(url_rest, params=params, headers={'Authorization': 'Bearer ' + token})\n",
    "    tweets = results.json()\n",
    "    tweet_ids = [tweet['id'] for tweet in tweets['statuses']]\n",
    "    for tweet_id in tweet_ids:\n",
    "        if tweet_id < last_id: last_id = tweet_id\n",
    "    user_ids = [tweet['user']['id_str']+'\\n' for tweet in tweets['statuses']]\n",
    "    with open('data/users.txt', 'a') as myfile:\n",
    "        myfile.writelines(user_ids)"
   ]
  },
  {
   "cell_type": "code",
   "execution_count": 190,
   "metadata": {},
   "outputs": [
    {
     "data": {
      "text/plain": [
       "<Response [429]>"
      ]
     },
     "execution_count": 190,
     "metadata": {},
     "output_type": "execute_result"
    }
   ],
   "source": [
    "results"
   ]
  },
  {
   "cell_type": "code",
   "execution_count": 181,
   "metadata": {},
   "outputs": [
    {
     "data": {
      "text/plain": [
       "'Itsjesseezekiel'"
      ]
     },
     "execution_count": 181,
     "metadata": {},
     "output_type": "execute_result"
    }
   ],
   "source": [
    "api.get_user('956368655154954241').screen_name"
   ]
  }
 ],
 "metadata": {
  "kernelspec": {
   "display_name": "Python 3",
   "language": "python",
   "name": "python3"
  },
  "language_info": {
   "codemirror_mode": {
    "name": "ipython",
    "version": 3
   },
   "file_extension": ".py",
   "mimetype": "text/x-python",
   "name": "python",
   "nbconvert_exporter": "python",
   "pygments_lexer": "ipython3",
   "version": "3.6.9"
  }
 },
 "nbformat": 4,
 "nbformat_minor": 2
}
