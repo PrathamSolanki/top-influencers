{
 "cells": [
  {
   "cell_type": "code",
   "execution_count": 55,
   "metadata": {},
   "outputs": [],
   "source": [
    "import json\n",
    "import requests\n",
    "import tweepy\n",
    "import base64\n",
    "import numpy as n10\n",
    "import oauth2\n",
    "from geopy.geocoders import Nominatim\n",
    "geolocator = Nominatim(user_agent=\"Twitter\", timeout=10)"
   ]
  },
  {
   "cell_type": "code",
   "execution_count": 13,
   "metadata": {},
   "outputs": [],
   "source": [
    "with open('twitter_credentials.json') as cred_data:\n",
    "    info = json.load(cred_data)\n",
    "    consumer_key = info['CONSUMER_KEY']\n",
    "    consumer_secret = info['CONSUMER_SECRET']\n",
    "    access_key = info['ACCESS_KEY']\n",
    "    access_secret = info['ACCESS_SECRET']\n",
    "    \n",
    "auth = tweepy.OAuthHandler(consumer_key, consumer_secret)\n",
    "auth.set_access_token(access_key, access_secret)\n",
    "api = tweepy.API(auth, wait_on_rate_limit=True, wait_on_rate_limit_notify=True)"
   ]
  },
  {
   "cell_type": "code",
   "execution_count": null,
   "metadata": {},
   "outputs": [],
   "source": [
    "with open('twitter_credentials_edo.json') as cred_data:\n",
    "    info = json.load(cred_data)\n",
    "    consumer_key = info['CONSUMER_KEY']\n",
    "    consumer_secret = info['CONSUMER_SECRET']\n",
    "    access_key = info['ACCESS_KEY']\n",
    "    access_secret = info['ACCESS_SECRET']\n",
    "    \n",
    "auth = tweepy.OAuthHandler(consumer_key, consumer_secret)\n",
    "auth.set_access_token(access_key, access_secret)\n",
    "api = tweepy.API(auth, wait_on_rate_limit=True, wait_on_rate_limit_notify=True)"
   ]
  },
  {
   "cell_type": "code",
   "execution_count": 27,
   "metadata": {},
   "outputs": [],
   "source": [
    "with open('data/users.txt', 'r') as f:\n",
    "    unique_users = np.unique(f.readlines())\n",
    "    \n",
    "with open('data/unique_users.txt', 'w') as f:\n",
    "    f.write('userId:ID(User)\\n')\n",
    "    f.writelines(unique_users)"
   ]
  },
  {
   "cell_type": "code",
   "execution_count": 52,
   "metadata": {},
   "outputs": [],
   "source": [
    "with open('data/followers.txt', 'w') as myfile:\n",
    "    myfile.write(':END_ID(User),:START_ID(User)\\n')"
   ]
  },
  {
   "cell_type": "code",
   "execution_count": null,
   "metadata": {},
   "outputs": [
    {
     "name": "stderr",
     "output_type": "stream",
     "text": [
      "Rate limit reached. Sleeping for: 314\n"
     ]
    }
   ],
   "source": [
    "with open('data/unique_users.txt', 'r') as f:\n",
    "    for line in f.readlines():\n",
    "        line = line.replace('\\n','')\n",
    "        if line.startswith('u'):\n",
    "            continue\n",
    "        user_name = api.get_user(line).screen_name\n",
    "        for followers in tweepy.Cursor(api.followers_ids, screen_name=user_name).pages():\n",
    "            for follower in followers:\n",
    "                location = geolocator.geocode(api.get_user(str(follower)).location, addressdetails=True)\n",
    "                try:\n",
    "                    if ((location.raw['address']['country'] != 'United States of America') or\n",
    "                       (location.raw['address']['state'] != 'California')):\n",
    "                        continue\n",
    "                except AttributeError:\n",
    "                    pass\n",
    "                with open('data/followers.txt', 'a') as myfile:\n",
    "                    myfile.write(str(line) + ',' + str(follower) + '\\n')"
   ]
  },
  {
   "cell_type": "code",
   "execution_count": null,
   "metadata": {},
   "outputs": [],
   "source": [
    "location = geolocator.geocode(api.get_user('881403023758565377').location, addressdetails=True)\n",
    "location.raw"
   ]
  }
 ],
 "metadata": {
  "kernelspec": {
   "display_name": "Python 3",
   "language": "python",
   "name": "python3"
  },
  "language_info": {
   "codemirror_mode": {
    "name": "ipython",
    "version": 3
   },
   "file_extension": ".py",
   "mimetype": "text/x-python",
   "name": "python",
   "nbconvert_exporter": "python",
   "pygments_lexer": "ipython3",
   "version": "3.6.9"
  }
 },
 "nbformat": 4,
 "nbformat_minor": 2
}
